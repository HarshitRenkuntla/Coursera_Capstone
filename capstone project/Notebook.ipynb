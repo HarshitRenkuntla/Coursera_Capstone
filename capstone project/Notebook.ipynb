##This Jupyter notebook will be used for Capstone project of IBM DS Professional Certificate
import pandas as pd
import numpy as np
print("Hello Capstone Project Course!")
